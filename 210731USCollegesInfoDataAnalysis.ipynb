{
 "cells": [
  {
   "cell_type": "code",
   "execution_count": 275,
   "id": "0678608c",
   "metadata": {},
   "outputs": [],
   "source": [
    "import numpy as np\n",
    "import pandas as pd\n",
    "%matplotlib inline\n",
    "import matplotlib.pyplot as plt\n",
    "import seaborn as sns"
   ]
  },
  {
   "cell_type": "markdown",
   "id": "120ca801",
   "metadata": {},
   "source": [
    "# Basic Information About Data"
   ]
  },
  {
   "cell_type": "markdown",
   "id": "cb97a5c2",
   "metadata": {},
   "source": [
    "This dataset is from the 2019 Forbes Magazine US University Ranks and includes information about the top universities in the US."
   ]
  },
  {
   "cell_type": "code",
   "execution_count": 276,
   "id": "4ed1a8b2",
   "metadata": {},
   "outputs": [],
   "source": [
    "df = pd.read_csv('/Users/eddysul/Desktop/Datasets/US Colleges Info/ForbesAmericasTopColleges2019.csv')"
   ]
  },
  {
   "cell_type": "code",
   "execution_count": 277,
   "id": "79f3a2a1",
   "metadata": {},
   "outputs": [
    {
     "name": "stdout",
     "output_type": "stream",
     "text": [
      "<class 'pandas.core.frame.DataFrame'>\n",
      "RangeIndex: 650 entries, 0 to 649\n",
      "Data columns (total 17 columns):\n",
      " #   Column                    Non-Null Count  Dtype  \n",
      "---  ------                    --------------  -----  \n",
      " 0   Rank                      650 non-null    float64\n",
      " 1   Name                      650 non-null    object \n",
      " 2   City                      647 non-null    object \n",
      " 3   State                     650 non-null    object \n",
      " 4   Public/Private            650 non-null    object \n",
      " 5   Undergraduate Population  650 non-null    float64\n",
      " 6   Student Population        650 non-null    float64\n",
      " 7   Net Price                 648 non-null    float64\n",
      " 8   Average Grant Aid         646 non-null    float64\n",
      " 9   Total Annual Cost         650 non-null    float64\n",
      " 10  Alumni Salary             635 non-null    float64\n",
      " 11  Acceptance Rate           648 non-null    float64\n",
      " 12  SAT Lower                 551 non-null    float64\n",
      " 13  SAT Upper                 551 non-null    float64\n",
      " 14  ACT Lower                 553 non-null    float64\n",
      " 15  ACT Upper                 553 non-null    float64\n",
      " 16  Website                   645 non-null    object \n",
      "dtypes: float64(12), object(5)\n",
      "memory usage: 86.5+ KB\n"
     ]
    }
   ],
   "source": [
    "df.info()"
   ]
  },
  {
   "cell_type": "code",
   "execution_count": 278,
   "id": "61562b5a",
   "metadata": {},
   "outputs": [
    {
     "data": {
      "text/html": [
       "<div>\n",
       "<style scoped>\n",
       "    .dataframe tbody tr th:only-of-type {\n",
       "        vertical-align: middle;\n",
       "    }\n",
       "\n",
       "    .dataframe tbody tr th {\n",
       "        vertical-align: top;\n",
       "    }\n",
       "\n",
       "    .dataframe thead th {\n",
       "        text-align: right;\n",
       "    }\n",
       "</style>\n",
       "<table border=\"1\" class=\"dataframe\">\n",
       "  <thead>\n",
       "    <tr style=\"text-align: right;\">\n",
       "      <th></th>\n",
       "      <th>Rank</th>\n",
       "      <th>Name</th>\n",
       "      <th>City</th>\n",
       "      <th>State</th>\n",
       "      <th>Public/Private</th>\n",
       "      <th>Undergraduate Population</th>\n",
       "      <th>Student Population</th>\n",
       "      <th>Net Price</th>\n",
       "      <th>Average Grant Aid</th>\n",
       "      <th>Total Annual Cost</th>\n",
       "      <th>Alumni Salary</th>\n",
       "      <th>Acceptance Rate</th>\n",
       "      <th>SAT Lower</th>\n",
       "      <th>SAT Upper</th>\n",
       "      <th>ACT Lower</th>\n",
       "      <th>ACT Upper</th>\n",
       "      <th>Website</th>\n",
       "    </tr>\n",
       "  </thead>\n",
       "  <tbody>\n",
       "    <tr>\n",
       "      <th>0</th>\n",
       "      <td>1.0</td>\n",
       "      <td>Harvard University</td>\n",
       "      <td>Cambridge</td>\n",
       "      <td>MA</td>\n",
       "      <td>Private</td>\n",
       "      <td>13844.0</td>\n",
       "      <td>31120.0</td>\n",
       "      <td>14327.0</td>\n",
       "      <td>49870.0</td>\n",
       "      <td>69600.0</td>\n",
       "      <td>146800.0</td>\n",
       "      <td>5.0</td>\n",
       "      <td>1460.0</td>\n",
       "      <td>1590.0</td>\n",
       "      <td>32.0</td>\n",
       "      <td>35.0</td>\n",
       "      <td>www.harvard.edu</td>\n",
       "    </tr>\n",
       "    <tr>\n",
       "      <th>1</th>\n",
       "      <td>2.0</td>\n",
       "      <td>Stanford University</td>\n",
       "      <td>Stanford</td>\n",
       "      <td>CA</td>\n",
       "      <td>Private</td>\n",
       "      <td>8402.0</td>\n",
       "      <td>17534.0</td>\n",
       "      <td>13261.0</td>\n",
       "      <td>50134.0</td>\n",
       "      <td>69109.0</td>\n",
       "      <td>145200.0</td>\n",
       "      <td>5.0</td>\n",
       "      <td>1390.0</td>\n",
       "      <td>1540.0</td>\n",
       "      <td>32.0</td>\n",
       "      <td>35.0</td>\n",
       "      <td>www.stanford.edu</td>\n",
       "    </tr>\n",
       "    <tr>\n",
       "      <th>2</th>\n",
       "      <td>3.0</td>\n",
       "      <td>Yale University</td>\n",
       "      <td>New Haven</td>\n",
       "      <td>CT</td>\n",
       "      <td>Private</td>\n",
       "      <td>6483.0</td>\n",
       "      <td>12974.0</td>\n",
       "      <td>18627.0</td>\n",
       "      <td>50897.0</td>\n",
       "      <td>71290.0</td>\n",
       "      <td>138300.0</td>\n",
       "      <td>7.0</td>\n",
       "      <td>1460.0</td>\n",
       "      <td>1580.0</td>\n",
       "      <td>32.0</td>\n",
       "      <td>35.0</td>\n",
       "      <td>www.yale.edu</td>\n",
       "    </tr>\n",
       "    <tr>\n",
       "      <th>3</th>\n",
       "      <td>4.0</td>\n",
       "      <td>Massachusetts Institute of Technology</td>\n",
       "      <td>Cambridge</td>\n",
       "      <td>MA</td>\n",
       "      <td>Private</td>\n",
       "      <td>4680.0</td>\n",
       "      <td>11466.0</td>\n",
       "      <td>20771.0</td>\n",
       "      <td>43248.0</td>\n",
       "      <td>67430.0</td>\n",
       "      <td>155200.0</td>\n",
       "      <td>7.0</td>\n",
       "      <td>1490.0</td>\n",
       "      <td>1570.0</td>\n",
       "      <td>33.0</td>\n",
       "      <td>35.0</td>\n",
       "      <td>web.mit.edu</td>\n",
       "    </tr>\n",
       "    <tr>\n",
       "      <th>4</th>\n",
       "      <td>5.0</td>\n",
       "      <td>Princeton University</td>\n",
       "      <td>Princeton</td>\n",
       "      <td>NJ</td>\n",
       "      <td>Private</td>\n",
       "      <td>5659.0</td>\n",
       "      <td>8273.0</td>\n",
       "      <td>9327.0</td>\n",
       "      <td>48088.0</td>\n",
       "      <td>66150.0</td>\n",
       "      <td>139400.0</td>\n",
       "      <td>6.0</td>\n",
       "      <td>1430.0</td>\n",
       "      <td>1570.0</td>\n",
       "      <td>31.0</td>\n",
       "      <td>35.0</td>\n",
       "      <td>www.princeton.edu</td>\n",
       "    </tr>\n",
       "  </tbody>\n",
       "</table>\n",
       "</div>"
      ],
      "text/plain": [
       "   Rank                                   Name       City State  \\\n",
       "0   1.0                     Harvard University  Cambridge    MA   \n",
       "1   2.0                    Stanford University   Stanford    CA   \n",
       "2   3.0                        Yale University  New Haven    CT   \n",
       "3   4.0  Massachusetts Institute of Technology  Cambridge    MA   \n",
       "4   5.0                   Princeton University  Princeton    NJ   \n",
       "\n",
       "  Public/Private  Undergraduate Population  Student Population  Net Price  \\\n",
       "0        Private                   13844.0             31120.0    14327.0   \n",
       "1        Private                    8402.0             17534.0    13261.0   \n",
       "2        Private                    6483.0             12974.0    18627.0   \n",
       "3        Private                    4680.0             11466.0    20771.0   \n",
       "4        Private                    5659.0              8273.0     9327.0   \n",
       "\n",
       "   Average Grant Aid  Total Annual Cost  Alumni Salary  Acceptance Rate  \\\n",
       "0            49870.0            69600.0       146800.0              5.0   \n",
       "1            50134.0            69109.0       145200.0              5.0   \n",
       "2            50897.0            71290.0       138300.0              7.0   \n",
       "3            43248.0            67430.0       155200.0              7.0   \n",
       "4            48088.0            66150.0       139400.0              6.0   \n",
       "\n",
       "   SAT Lower  SAT Upper  ACT Lower  ACT Upper            Website  \n",
       "0     1460.0     1590.0       32.0       35.0    www.harvard.edu  \n",
       "1     1390.0     1540.0       32.0       35.0   www.stanford.edu  \n",
       "2     1460.0     1580.0       32.0       35.0       www.yale.edu  \n",
       "3     1490.0     1570.0       33.0       35.0        web.mit.edu  \n",
       "4     1430.0     1570.0       31.0       35.0  www.princeton.edu  "
      ]
     },
     "execution_count": 278,
     "metadata": {},
     "output_type": "execute_result"
    }
   ],
   "source": [
    "df.head()"
   ]
  },
  {
   "cell_type": "markdown",
   "id": "677f1893",
   "metadata": {},
   "source": [
    "# Data Cleaning"
   ]
  },
  {
   "cell_type": "code",
   "execution_count": 279,
   "id": "b3a38106",
   "metadata": {},
   "outputs": [
    {
     "data": {
      "text/plain": [
       "Rank                         0\n",
       "Name                         0\n",
       "City                         3\n",
       "State                        0\n",
       "Public/Private               0\n",
       "Undergraduate Population     0\n",
       "Student Population           0\n",
       "Net Price                    2\n",
       "Average Grant Aid            4\n",
       "Total Annual Cost            0\n",
       "Alumni Salary               15\n",
       "Acceptance Rate              2\n",
       "SAT Lower                   99\n",
       "SAT Upper                   99\n",
       "ACT Lower                   97\n",
       "ACT Upper                   97\n",
       "Website                      5\n",
       "dtype: int64"
      ]
     },
     "execution_count": 279,
     "metadata": {},
     "output_type": "execute_result"
    }
   ],
   "source": [
    "df.isnull().sum()"
   ]
  },
  {
   "cell_type": "code",
   "execution_count": 280,
   "id": "5f5c8ab6",
   "metadata": {},
   "outputs": [
    {
     "data": {
      "text/html": [
       "<div>\n",
       "<style scoped>\n",
       "    .dataframe tbody tr th:only-of-type {\n",
       "        vertical-align: middle;\n",
       "    }\n",
       "\n",
       "    .dataframe tbody tr th {\n",
       "        vertical-align: top;\n",
       "    }\n",
       "\n",
       "    .dataframe thead th {\n",
       "        text-align: right;\n",
       "    }\n",
       "</style>\n",
       "<table border=\"1\" class=\"dataframe\">\n",
       "  <thead>\n",
       "    <tr style=\"text-align: right;\">\n",
       "      <th></th>\n",
       "      <th>Rank</th>\n",
       "      <th>Name</th>\n",
       "      <th>City</th>\n",
       "      <th>State</th>\n",
       "      <th>Public/Private</th>\n",
       "      <th>Undergraduate Population</th>\n",
       "      <th>Student Population</th>\n",
       "      <th>Net Price</th>\n",
       "      <th>Average Grant Aid</th>\n",
       "      <th>Total Annual Cost</th>\n",
       "      <th>Alumni Salary</th>\n",
       "      <th>Acceptance Rate</th>\n",
       "    </tr>\n",
       "  </thead>\n",
       "  <tbody>\n",
       "    <tr>\n",
       "      <th>0</th>\n",
       "      <td>1.0</td>\n",
       "      <td>Harvard University</td>\n",
       "      <td>Cambridge</td>\n",
       "      <td>MA</td>\n",
       "      <td>Private</td>\n",
       "      <td>13844.0</td>\n",
       "      <td>31120.0</td>\n",
       "      <td>14327.0</td>\n",
       "      <td>49870.0</td>\n",
       "      <td>69600.0</td>\n",
       "      <td>146800.0</td>\n",
       "      <td>5.0</td>\n",
       "    </tr>\n",
       "    <tr>\n",
       "      <th>1</th>\n",
       "      <td>2.0</td>\n",
       "      <td>Stanford University</td>\n",
       "      <td>Stanford</td>\n",
       "      <td>CA</td>\n",
       "      <td>Private</td>\n",
       "      <td>8402.0</td>\n",
       "      <td>17534.0</td>\n",
       "      <td>13261.0</td>\n",
       "      <td>50134.0</td>\n",
       "      <td>69109.0</td>\n",
       "      <td>145200.0</td>\n",
       "      <td>5.0</td>\n",
       "    </tr>\n",
       "    <tr>\n",
       "      <th>2</th>\n",
       "      <td>3.0</td>\n",
       "      <td>Yale University</td>\n",
       "      <td>New Haven</td>\n",
       "      <td>CT</td>\n",
       "      <td>Private</td>\n",
       "      <td>6483.0</td>\n",
       "      <td>12974.0</td>\n",
       "      <td>18627.0</td>\n",
       "      <td>50897.0</td>\n",
       "      <td>71290.0</td>\n",
       "      <td>138300.0</td>\n",
       "      <td>7.0</td>\n",
       "    </tr>\n",
       "    <tr>\n",
       "      <th>3</th>\n",
       "      <td>4.0</td>\n",
       "      <td>Massachusetts Institute of Technology</td>\n",
       "      <td>Cambridge</td>\n",
       "      <td>MA</td>\n",
       "      <td>Private</td>\n",
       "      <td>4680.0</td>\n",
       "      <td>11466.0</td>\n",
       "      <td>20771.0</td>\n",
       "      <td>43248.0</td>\n",
       "      <td>67430.0</td>\n",
       "      <td>155200.0</td>\n",
       "      <td>7.0</td>\n",
       "    </tr>\n",
       "    <tr>\n",
       "      <th>4</th>\n",
       "      <td>5.0</td>\n",
       "      <td>Princeton University</td>\n",
       "      <td>Princeton</td>\n",
       "      <td>NJ</td>\n",
       "      <td>Private</td>\n",
       "      <td>5659.0</td>\n",
       "      <td>8273.0</td>\n",
       "      <td>9327.0</td>\n",
       "      <td>48088.0</td>\n",
       "      <td>66150.0</td>\n",
       "      <td>139400.0</td>\n",
       "      <td>6.0</td>\n",
       "    </tr>\n",
       "    <tr>\n",
       "      <th>...</th>\n",
       "      <td>...</td>\n",
       "      <td>...</td>\n",
       "      <td>...</td>\n",
       "      <td>...</td>\n",
       "      <td>...</td>\n",
       "      <td>...</td>\n",
       "      <td>...</td>\n",
       "      <td>...</td>\n",
       "      <td>...</td>\n",
       "      <td>...</td>\n",
       "      <td>...</td>\n",
       "      <td>...</td>\n",
       "    </tr>\n",
       "    <tr>\n",
       "      <th>645</th>\n",
       "      <td>646.0</td>\n",
       "      <td>New Mexico State University</td>\n",
       "      <td>Las Cruces</td>\n",
       "      <td>NM</td>\n",
       "      <td>Public</td>\n",
       "      <td>13379.0</td>\n",
       "      <td>14432.0</td>\n",
       "      <td>8625.0</td>\n",
       "      <td>9582.0</td>\n",
       "      <td>34720.0</td>\n",
       "      <td>96700.0</td>\n",
       "      <td>64.0</td>\n",
       "    </tr>\n",
       "    <tr>\n",
       "      <th>646</th>\n",
       "      <td>647.0</td>\n",
       "      <td>Indiana State University</td>\n",
       "      <td>Terre Haute</td>\n",
       "      <td>IN</td>\n",
       "      <td>Public</td>\n",
       "      <td>13626.0</td>\n",
       "      <td>13763.0</td>\n",
       "      <td>13012.0</td>\n",
       "      <td>9297.0</td>\n",
       "      <td>32938.0</td>\n",
       "      <td>85600.0</td>\n",
       "      <td>85.0</td>\n",
       "    </tr>\n",
       "    <tr>\n",
       "      <th>647</th>\n",
       "      <td>648.0</td>\n",
       "      <td>Emory &amp;amp; Henry College</td>\n",
       "      <td>Emory</td>\n",
       "      <td>VA</td>\n",
       "      <td>Private</td>\n",
       "      <td>1094.0</td>\n",
       "      <td>1226.0</td>\n",
       "      <td>19340.0</td>\n",
       "      <td>27155.0</td>\n",
       "      <td>48100.0</td>\n",
       "      <td>70700.0</td>\n",
       "      <td>72.0</td>\n",
       "    </tr>\n",
       "    <tr>\n",
       "      <th>648</th>\n",
       "      <td>649.0</td>\n",
       "      <td>Wells College</td>\n",
       "      <td>Aurora</td>\n",
       "      <td>NY</td>\n",
       "      <td>Private</td>\n",
       "      <td>488.0</td>\n",
       "      <td>516.0</td>\n",
       "      <td>22828.0</td>\n",
       "      <td>30207.0</td>\n",
       "      <td>55180.0</td>\n",
       "      <td>NaN</td>\n",
       "      <td>80.0</td>\n",
       "    </tr>\n",
       "    <tr>\n",
       "      <th>649</th>\n",
       "      <td>650.0</td>\n",
       "      <td>Catawba College</td>\n",
       "      <td>Salisbury</td>\n",
       "      <td>NC</td>\n",
       "      <td>Private</td>\n",
       "      <td>1336.0</td>\n",
       "      <td>1463.0</td>\n",
       "      <td>19807.0</td>\n",
       "      <td>23662.0</td>\n",
       "      <td>44921.0</td>\n",
       "      <td>78100.0</td>\n",
       "      <td>42.0</td>\n",
       "    </tr>\n",
       "  </tbody>\n",
       "</table>\n",
       "<p>650 rows × 12 columns</p>\n",
       "</div>"
      ],
      "text/plain": [
       "      Rank                                   Name         City State  \\\n",
       "0      1.0                     Harvard University    Cambridge    MA   \n",
       "1      2.0                    Stanford University     Stanford    CA   \n",
       "2      3.0                        Yale University    New Haven    CT   \n",
       "3      4.0  Massachusetts Institute of Technology    Cambridge    MA   \n",
       "4      5.0                   Princeton University    Princeton    NJ   \n",
       "..     ...                                    ...          ...   ...   \n",
       "645  646.0            New Mexico State University   Las Cruces    NM   \n",
       "646  647.0               Indiana State University  Terre Haute    IN   \n",
       "647  648.0              Emory &amp; Henry College        Emory    VA   \n",
       "648  649.0                          Wells College       Aurora    NY   \n",
       "649  650.0                        Catawba College    Salisbury    NC   \n",
       "\n",
       "    Public/Private  Undergraduate Population  Student Population  Net Price  \\\n",
       "0          Private                   13844.0             31120.0    14327.0   \n",
       "1          Private                    8402.0             17534.0    13261.0   \n",
       "2          Private                    6483.0             12974.0    18627.0   \n",
       "3          Private                    4680.0             11466.0    20771.0   \n",
       "4          Private                    5659.0              8273.0     9327.0   \n",
       "..             ...                       ...                 ...        ...   \n",
       "645         Public                   13379.0             14432.0     8625.0   \n",
       "646         Public                   13626.0             13763.0    13012.0   \n",
       "647        Private                    1094.0              1226.0    19340.0   \n",
       "648        Private                     488.0               516.0    22828.0   \n",
       "649        Private                    1336.0              1463.0    19807.0   \n",
       "\n",
       "     Average Grant Aid  Total Annual Cost  Alumni Salary  Acceptance Rate  \n",
       "0              49870.0            69600.0       146800.0              5.0  \n",
       "1              50134.0            69109.0       145200.0              5.0  \n",
       "2              50897.0            71290.0       138300.0              7.0  \n",
       "3              43248.0            67430.0       155200.0              7.0  \n",
       "4              48088.0            66150.0       139400.0              6.0  \n",
       "..                 ...                ...            ...              ...  \n",
       "645             9582.0            34720.0        96700.0             64.0  \n",
       "646             9297.0            32938.0        85600.0             85.0  \n",
       "647            27155.0            48100.0        70700.0             72.0  \n",
       "648            30207.0            55180.0            NaN             80.0  \n",
       "649            23662.0            44921.0        78100.0             42.0  \n",
       "\n",
       "[650 rows x 12 columns]"
      ]
     },
     "execution_count": 280,
     "metadata": {},
     "output_type": "execute_result"
    }
   ],
   "source": [
    "college = df.drop(['SAT Lower','SAT Upper','ACT Lower','ACT Upper','Website'],axis=1)\n",
    "college"
   ]
  },
  {
   "cell_type": "code",
   "execution_count": 281,
   "id": "20fcebdb",
   "metadata": {},
   "outputs": [
    {
     "data": {
      "text/plain": [
       "Rank                         0\n",
       "Name                         0\n",
       "City                         3\n",
       "State                        0\n",
       "Public/Private               0\n",
       "Undergraduate Population     0\n",
       "Student Population           0\n",
       "Net Price                    2\n",
       "Average Grant Aid            4\n",
       "Total Annual Cost            0\n",
       "Alumni Salary               15\n",
       "Acceptance Rate              2\n",
       "dtype: int64"
      ]
     },
     "execution_count": 281,
     "metadata": {},
     "output_type": "execute_result"
    }
   ],
   "source": [
    "college.isnull().sum()"
   ]
  },
  {
   "cell_type": "markdown",
   "id": "f7756212",
   "metadata": {},
   "source": [
    "Getting the top 100 Colleges out of the list to compare with the whole data"
   ]
  },
  {
   "cell_type": "code",
   "execution_count": 282,
   "id": "3b5729cf",
   "metadata": {},
   "outputs": [
    {
     "data": {
      "text/html": [
       "<div>\n",
       "<style scoped>\n",
       "    .dataframe tbody tr th:only-of-type {\n",
       "        vertical-align: middle;\n",
       "    }\n",
       "\n",
       "    .dataframe tbody tr th {\n",
       "        vertical-align: top;\n",
       "    }\n",
       "\n",
       "    .dataframe thead th {\n",
       "        text-align: right;\n",
       "    }\n",
       "</style>\n",
       "<table border=\"1\" class=\"dataframe\">\n",
       "  <thead>\n",
       "    <tr style=\"text-align: right;\">\n",
       "      <th></th>\n",
       "      <th>Rank</th>\n",
       "      <th>Name</th>\n",
       "      <th>City</th>\n",
       "      <th>State</th>\n",
       "      <th>Public/Private</th>\n",
       "      <th>Undergraduate Population</th>\n",
       "      <th>Student Population</th>\n",
       "      <th>Net Price</th>\n",
       "      <th>Average Grant Aid</th>\n",
       "      <th>Total Annual Cost</th>\n",
       "      <th>Alumni Salary</th>\n",
       "      <th>Acceptance Rate</th>\n",
       "    </tr>\n",
       "  </thead>\n",
       "  <tbody>\n",
       "    <tr>\n",
       "      <th>0</th>\n",
       "      <td>1.0</td>\n",
       "      <td>Harvard University</td>\n",
       "      <td>Cambridge</td>\n",
       "      <td>MA</td>\n",
       "      <td>Private</td>\n",
       "      <td>13844.0</td>\n",
       "      <td>31120.0</td>\n",
       "      <td>14327.0</td>\n",
       "      <td>49870.0</td>\n",
       "      <td>69600.0</td>\n",
       "      <td>146800.0</td>\n",
       "      <td>5.0</td>\n",
       "    </tr>\n",
       "    <tr>\n",
       "      <th>1</th>\n",
       "      <td>2.0</td>\n",
       "      <td>Stanford University</td>\n",
       "      <td>Stanford</td>\n",
       "      <td>CA</td>\n",
       "      <td>Private</td>\n",
       "      <td>8402.0</td>\n",
       "      <td>17534.0</td>\n",
       "      <td>13261.0</td>\n",
       "      <td>50134.0</td>\n",
       "      <td>69109.0</td>\n",
       "      <td>145200.0</td>\n",
       "      <td>5.0</td>\n",
       "    </tr>\n",
       "    <tr>\n",
       "      <th>2</th>\n",
       "      <td>3.0</td>\n",
       "      <td>Yale University</td>\n",
       "      <td>New Haven</td>\n",
       "      <td>CT</td>\n",
       "      <td>Private</td>\n",
       "      <td>6483.0</td>\n",
       "      <td>12974.0</td>\n",
       "      <td>18627.0</td>\n",
       "      <td>50897.0</td>\n",
       "      <td>71290.0</td>\n",
       "      <td>138300.0</td>\n",
       "      <td>7.0</td>\n",
       "    </tr>\n",
       "    <tr>\n",
       "      <th>3</th>\n",
       "      <td>4.0</td>\n",
       "      <td>Massachusetts Institute of Technology</td>\n",
       "      <td>Cambridge</td>\n",
       "      <td>MA</td>\n",
       "      <td>Private</td>\n",
       "      <td>4680.0</td>\n",
       "      <td>11466.0</td>\n",
       "      <td>20771.0</td>\n",
       "      <td>43248.0</td>\n",
       "      <td>67430.0</td>\n",
       "      <td>155200.0</td>\n",
       "      <td>7.0</td>\n",
       "    </tr>\n",
       "    <tr>\n",
       "      <th>4</th>\n",
       "      <td>5.0</td>\n",
       "      <td>Princeton University</td>\n",
       "      <td>Princeton</td>\n",
       "      <td>NJ</td>\n",
       "      <td>Private</td>\n",
       "      <td>5659.0</td>\n",
       "      <td>8273.0</td>\n",
       "      <td>9327.0</td>\n",
       "      <td>48088.0</td>\n",
       "      <td>66150.0</td>\n",
       "      <td>139400.0</td>\n",
       "      <td>6.0</td>\n",
       "    </tr>\n",
       "    <tr>\n",
       "      <th>...</th>\n",
       "      <td>...</td>\n",
       "      <td>...</td>\n",
       "      <td>...</td>\n",
       "      <td>...</td>\n",
       "      <td>...</td>\n",
       "      <td>...</td>\n",
       "      <td>...</td>\n",
       "      <td>...</td>\n",
       "      <td>...</td>\n",
       "      <td>...</td>\n",
       "      <td>...</td>\n",
       "      <td>...</td>\n",
       "    </tr>\n",
       "    <tr>\n",
       "      <th>95</th>\n",
       "      <td>96.0</td>\n",
       "      <td>Brandeis University</td>\n",
       "      <td>Waltham</td>\n",
       "      <td>MA</td>\n",
       "      <td>Private</td>\n",
       "      <td>3869.0</td>\n",
       "      <td>5721.0</td>\n",
       "      <td>31138.0</td>\n",
       "      <td>35487.0</td>\n",
       "      <td>70943.0</td>\n",
       "      <td>113200.0</td>\n",
       "      <td>34.0</td>\n",
       "    </tr>\n",
       "    <tr>\n",
       "      <th>96</th>\n",
       "      <td>97.0</td>\n",
       "      <td>Yeshiva University</td>\n",
       "      <td>New York</td>\n",
       "      <td>NY</td>\n",
       "      <td>Private</td>\n",
       "      <td>2884.0</td>\n",
       "      <td>6330.0</td>\n",
       "      <td>36306.0</td>\n",
       "      <td>26972.0</td>\n",
       "      <td>60525.0</td>\n",
       "      <td>112800.0</td>\n",
       "      <td>63.0</td>\n",
       "    </tr>\n",
       "    <tr>\n",
       "      <th>97</th>\n",
       "      <td>98.0</td>\n",
       "      <td>University of Minnesota, Twin Cities</td>\n",
       "      <td>Minneapolis</td>\n",
       "      <td>MN</td>\n",
       "      <td>Public</td>\n",
       "      <td>45796.0</td>\n",
       "      <td>51848.0</td>\n",
       "      <td>17396.0</td>\n",
       "      <td>8760.0</td>\n",
       "      <td>39655.0</td>\n",
       "      <td>104000.0</td>\n",
       "      <td>50.0</td>\n",
       "    </tr>\n",
       "    <tr>\n",
       "      <th>98</th>\n",
       "      <td>99.0</td>\n",
       "      <td>University of Georgia</td>\n",
       "      <td>Athens</td>\n",
       "      <td>GA</td>\n",
       "      <td>Public</td>\n",
       "      <td>30690.0</td>\n",
       "      <td>37606.0</td>\n",
       "      <td>14625.0</td>\n",
       "      <td>10076.0</td>\n",
       "      <td>44978.0</td>\n",
       "      <td>100700.0</td>\n",
       "      <td>54.0</td>\n",
       "    </tr>\n",
       "    <tr>\n",
       "      <th>99</th>\n",
       "      <td>100.0</td>\n",
       "      <td>Case Western Reserve University</td>\n",
       "      <td>Cleveland</td>\n",
       "      <td>OH</td>\n",
       "      <td>Private</td>\n",
       "      <td>5292.0</td>\n",
       "      <td>11824.0</td>\n",
       "      <td>35316.0</td>\n",
       "      <td>28295.0</td>\n",
       "      <td>65384.0</td>\n",
       "      <td>117800.0</td>\n",
       "      <td>33.0</td>\n",
       "    </tr>\n",
       "  </tbody>\n",
       "</table>\n",
       "<p>100 rows × 12 columns</p>\n",
       "</div>"
      ],
      "text/plain": [
       "     Rank                                   Name         City State  \\\n",
       "0     1.0                     Harvard University    Cambridge    MA   \n",
       "1     2.0                    Stanford University     Stanford    CA   \n",
       "2     3.0                        Yale University    New Haven    CT   \n",
       "3     4.0  Massachusetts Institute of Technology    Cambridge    MA   \n",
       "4     5.0                   Princeton University    Princeton    NJ   \n",
       "..    ...                                    ...          ...   ...   \n",
       "95   96.0                    Brandeis University      Waltham    MA   \n",
       "96   97.0                     Yeshiva University     New York    NY   \n",
       "97   98.0   University of Minnesota, Twin Cities  Minneapolis    MN   \n",
       "98   99.0                  University of Georgia       Athens    GA   \n",
       "99  100.0        Case Western Reserve University    Cleveland    OH   \n",
       "\n",
       "   Public/Private  Undergraduate Population  Student Population  Net Price  \\\n",
       "0         Private                   13844.0             31120.0    14327.0   \n",
       "1         Private                    8402.0             17534.0    13261.0   \n",
       "2         Private                    6483.0             12974.0    18627.0   \n",
       "3         Private                    4680.0             11466.0    20771.0   \n",
       "4         Private                    5659.0              8273.0     9327.0   \n",
       "..            ...                       ...                 ...        ...   \n",
       "95        Private                    3869.0              5721.0    31138.0   \n",
       "96        Private                    2884.0              6330.0    36306.0   \n",
       "97         Public                   45796.0             51848.0    17396.0   \n",
       "98         Public                   30690.0             37606.0    14625.0   \n",
       "99        Private                    5292.0             11824.0    35316.0   \n",
       "\n",
       "    Average Grant Aid  Total Annual Cost  Alumni Salary  Acceptance Rate  \n",
       "0             49870.0            69600.0       146800.0              5.0  \n",
       "1             50134.0            69109.0       145200.0              5.0  \n",
       "2             50897.0            71290.0       138300.0              7.0  \n",
       "3             43248.0            67430.0       155200.0              7.0  \n",
       "4             48088.0            66150.0       139400.0              6.0  \n",
       "..                ...                ...            ...              ...  \n",
       "95            35487.0            70943.0       113200.0             34.0  \n",
       "96            26972.0            60525.0       112800.0             63.0  \n",
       "97             8760.0            39655.0       104000.0             50.0  \n",
       "98            10076.0            44978.0       100700.0             54.0  \n",
       "99            28295.0            65384.0       117800.0             33.0  \n",
       "\n",
       "[100 rows x 12 columns]"
      ]
     },
     "execution_count": 282,
     "metadata": {},
     "output_type": "execute_result"
    }
   ],
   "source": [
    "top_college = college[:100]\n",
    "top_college"
   ]
  },
  {
   "cell_type": "markdown",
   "id": "9a5e04c1",
   "metadata": {},
   "source": [
    "# Analysis of General Data"
   ]
  },
  {
   "cell_type": "markdown",
   "id": "4179d605",
   "metadata": {},
   "source": [
    "For this dataset we are going to analyze the relationships between different variables of data and compare the results of the whole dataset to the results of the dataset of top 100 colleges."
   ]
  },
  {
   "cell_type": "code",
   "execution_count": 283,
   "id": "e950bbb3",
   "metadata": {},
   "outputs": [
    {
     "data": {
      "text/html": [
       "<div>\n",
       "<style scoped>\n",
       "    .dataframe tbody tr th:only-of-type {\n",
       "        vertical-align: middle;\n",
       "    }\n",
       "\n",
       "    .dataframe tbody tr th {\n",
       "        vertical-align: top;\n",
       "    }\n",
       "\n",
       "    .dataframe thead th {\n",
       "        text-align: right;\n",
       "    }\n",
       "</style>\n",
       "<table border=\"1\" class=\"dataframe\">\n",
       "  <thead>\n",
       "    <tr style=\"text-align: right;\">\n",
       "      <th></th>\n",
       "      <th>Rank</th>\n",
       "      <th>Undergraduate Population</th>\n",
       "      <th>Student Population</th>\n",
       "      <th>Net Price</th>\n",
       "      <th>Average Grant Aid</th>\n",
       "      <th>Total Annual Cost</th>\n",
       "      <th>Alumni Salary</th>\n",
       "      <th>Acceptance Rate</th>\n",
       "    </tr>\n",
       "  </thead>\n",
       "  <tbody>\n",
       "    <tr>\n",
       "      <th>Rank</th>\n",
       "      <td>1.000000</td>\n",
       "      <td>-0.060859</td>\n",
       "      <td>-0.133249</td>\n",
       "      <td>-0.329445</td>\n",
       "      <td>-0.445638</td>\n",
       "      <td>-0.552349</td>\n",
       "      <td>-0.721772</td>\n",
       "      <td>0.628110</td>\n",
       "    </tr>\n",
       "    <tr>\n",
       "      <th>Undergraduate Population</th>\n",
       "      <td>-0.060859</td>\n",
       "      <td>1.000000</td>\n",
       "      <td>0.977504</td>\n",
       "      <td>-0.421586</td>\n",
       "      <td>-0.534964</td>\n",
       "      <td>-0.347878</td>\n",
       "      <td>0.032952</td>\n",
       "      <td>0.050791</td>\n",
       "    </tr>\n",
       "    <tr>\n",
       "      <th>Student Population</th>\n",
       "      <td>-0.133249</td>\n",
       "      <td>0.977504</td>\n",
       "      <td>1.000000</td>\n",
       "      <td>-0.366417</td>\n",
       "      <td>-0.455760</td>\n",
       "      <td>-0.267689</td>\n",
       "      <td>0.107621</td>\n",
       "      <td>-0.023240</td>\n",
       "    </tr>\n",
       "    <tr>\n",
       "      <th>Net Price</th>\n",
       "      <td>-0.329445</td>\n",
       "      <td>-0.421586</td>\n",
       "      <td>-0.366417</td>\n",
       "      <td>1.000000</td>\n",
       "      <td>0.500836</td>\n",
       "      <td>0.717578</td>\n",
       "      <td>0.191580</td>\n",
       "      <td>-0.128402</td>\n",
       "    </tr>\n",
       "    <tr>\n",
       "      <th>Average Grant Aid</th>\n",
       "      <td>-0.445638</td>\n",
       "      <td>-0.534964</td>\n",
       "      <td>-0.455760</td>\n",
       "      <td>0.500836</td>\n",
       "      <td>1.000000</td>\n",
       "      <td>0.851840</td>\n",
       "      <td>0.377548</td>\n",
       "      <td>-0.557316</td>\n",
       "    </tr>\n",
       "    <tr>\n",
       "      <th>Total Annual Cost</th>\n",
       "      <td>-0.552349</td>\n",
       "      <td>-0.347878</td>\n",
       "      <td>-0.267689</td>\n",
       "      <td>0.717578</td>\n",
       "      <td>0.851840</td>\n",
       "      <td>1.000000</td>\n",
       "      <td>0.398787</td>\n",
       "      <td>-0.436688</td>\n",
       "    </tr>\n",
       "    <tr>\n",
       "      <th>Alumni Salary</th>\n",
       "      <td>-0.721772</td>\n",
       "      <td>0.032952</td>\n",
       "      <td>0.107621</td>\n",
       "      <td>0.191580</td>\n",
       "      <td>0.377548</td>\n",
       "      <td>0.398787</td>\n",
       "      <td>1.000000</td>\n",
       "      <td>-0.556903</td>\n",
       "    </tr>\n",
       "    <tr>\n",
       "      <th>Acceptance Rate</th>\n",
       "      <td>0.628110</td>\n",
       "      <td>0.050791</td>\n",
       "      <td>-0.023240</td>\n",
       "      <td>-0.128402</td>\n",
       "      <td>-0.557316</td>\n",
       "      <td>-0.436688</td>\n",
       "      <td>-0.556903</td>\n",
       "      <td>1.000000</td>\n",
       "    </tr>\n",
       "  </tbody>\n",
       "</table>\n",
       "</div>"
      ],
      "text/plain": [
       "                              Rank  Undergraduate Population  \\\n",
       "Rank                      1.000000                 -0.060859   \n",
       "Undergraduate Population -0.060859                  1.000000   \n",
       "Student Population       -0.133249                  0.977504   \n",
       "Net Price                -0.329445                 -0.421586   \n",
       "Average Grant Aid        -0.445638                 -0.534964   \n",
       "Total Annual Cost        -0.552349                 -0.347878   \n",
       "Alumni Salary            -0.721772                  0.032952   \n",
       "Acceptance Rate           0.628110                  0.050791   \n",
       "\n",
       "                          Student Population  Net Price  Average Grant Aid  \\\n",
       "Rank                               -0.133249  -0.329445          -0.445638   \n",
       "Undergraduate Population            0.977504  -0.421586          -0.534964   \n",
       "Student Population                  1.000000  -0.366417          -0.455760   \n",
       "Net Price                          -0.366417   1.000000           0.500836   \n",
       "Average Grant Aid                  -0.455760   0.500836           1.000000   \n",
       "Total Annual Cost                  -0.267689   0.717578           0.851840   \n",
       "Alumni Salary                       0.107621   0.191580           0.377548   \n",
       "Acceptance Rate                    -0.023240  -0.128402          -0.557316   \n",
       "\n",
       "                          Total Annual Cost  Alumni Salary  Acceptance Rate  \n",
       "Rank                              -0.552349      -0.721772         0.628110  \n",
       "Undergraduate Population          -0.347878       0.032952         0.050791  \n",
       "Student Population                -0.267689       0.107621        -0.023240  \n",
       "Net Price                          0.717578       0.191580        -0.128402  \n",
       "Average Grant Aid                  0.851840       0.377548        -0.557316  \n",
       "Total Annual Cost                  1.000000       0.398787        -0.436688  \n",
       "Alumni Salary                      0.398787       1.000000        -0.556903  \n",
       "Acceptance Rate                   -0.436688      -0.556903         1.000000  "
      ]
     },
     "execution_count": 283,
     "metadata": {},
     "output_type": "execute_result"
    }
   ],
   "source": [
    "college.corr()"
   ]
  },
  {
   "cell_type": "code",
   "execution_count": 284,
   "id": "198d0bc6",
   "metadata": {},
   "outputs": [
    {
     "data": {
      "text/plain": [
       "<AxesSubplot:>"
      ]
     },
     "execution_count": 284,
     "metadata": {},
     "output_type": "execute_result"
    },
    {
     "data": {
      "image/png": "[encoded data removed]",
      "text/plain": [
       "<Figure size 432x288 with 2 Axes>"
      ]
     },
     "metadata": {
      "needs_background": "light"
     },
     "output_type": "display_data"
    }
   ],
   "source": [
    "sns.heatmap(college.corr(),cmap='coolwarm')"
   ]
  },
  {
   "cell_type": "code",
   "execution_count": 285,
   "id": "42e77346",
   "metadata": {},
   "outputs": [
    {
     "data": {
      "text/html": [
       "<div>\n",
       "<style scoped>\n",
       "    .dataframe tbody tr th:only-of-type {\n",
       "        vertical-align: middle;\n",
       "    }\n",
       "\n",
       "    .dataframe tbody tr th {\n",
       "        vertical-align: top;\n",
       "    }\n",
       "\n",
       "    .dataframe thead th {\n",
       "        text-align: right;\n",
       "    }\n",
       "</style>\n",
       "<table border=\"1\" class=\"dataframe\">\n",
       "  <thead>\n",
       "    <tr style=\"text-align: right;\">\n",
       "      <th></th>\n",
       "      <th>Rank</th>\n",
       "      <th>Undergraduate Population</th>\n",
       "      <th>Student Population</th>\n",
       "      <th>Net Price</th>\n",
       "      <th>Average Grant Aid</th>\n",
       "      <th>Total Annual Cost</th>\n",
       "      <th>Alumni Salary</th>\n",
       "      <th>Acceptance Rate</th>\n",
       "    </tr>\n",
       "  </thead>\n",
       "  <tbody>\n",
       "    <tr>\n",
       "      <th>Rank</th>\n",
       "      <td>1.000000</td>\n",
       "      <td>0.195249</td>\n",
       "      <td>0.059194</td>\n",
       "      <td>0.163434</td>\n",
       "      <td>-0.583239</td>\n",
       "      <td>-0.172830</td>\n",
       "      <td>-0.544977</td>\n",
       "      <td>0.800066</td>\n",
       "    </tr>\n",
       "    <tr>\n",
       "      <th>Undergraduate Population</th>\n",
       "      <td>0.195249</td>\n",
       "      <td>1.000000</td>\n",
       "      <td>0.955425</td>\n",
       "      <td>-0.307860</td>\n",
       "      <td>-0.695763</td>\n",
       "      <td>-0.232008</td>\n",
       "      <td>-0.162951</td>\n",
       "      <td>0.413853</td>\n",
       "    </tr>\n",
       "    <tr>\n",
       "      <th>Student Population</th>\n",
       "      <td>0.059194</td>\n",
       "      <td>0.955425</td>\n",
       "      <td>1.000000</td>\n",
       "      <td>-0.234315</td>\n",
       "      <td>-0.586193</td>\n",
       "      <td>-0.134846</td>\n",
       "      <td>-0.094441</td>\n",
       "      <td>0.299827</td>\n",
       "    </tr>\n",
       "    <tr>\n",
       "      <th>Net Price</th>\n",
       "      <td>0.163434</td>\n",
       "      <td>-0.307860</td>\n",
       "      <td>-0.234315</td>\n",
       "      <td>1.000000</td>\n",
       "      <td>0.303930</td>\n",
       "      <td>0.696465</td>\n",
       "      <td>-0.178563</td>\n",
       "      <td>0.188673</td>\n",
       "    </tr>\n",
       "    <tr>\n",
       "      <th>Average Grant Aid</th>\n",
       "      <td>-0.583239</td>\n",
       "      <td>-0.695763</td>\n",
       "      <td>-0.586193</td>\n",
       "      <td>0.303930</td>\n",
       "      <td>1.000000</td>\n",
       "      <td>0.777242</td>\n",
       "      <td>0.208577</td>\n",
       "      <td>-0.718752</td>\n",
       "    </tr>\n",
       "    <tr>\n",
       "      <th>Total Annual Cost</th>\n",
       "      <td>-0.172830</td>\n",
       "      <td>-0.232008</td>\n",
       "      <td>-0.134846</td>\n",
       "      <td>0.696465</td>\n",
       "      <td>0.777242</td>\n",
       "      <td>1.000000</td>\n",
       "      <td>-0.164593</td>\n",
       "      <td>-0.137161</td>\n",
       "    </tr>\n",
       "    <tr>\n",
       "      <th>Alumni Salary</th>\n",
       "      <td>-0.544977</td>\n",
       "      <td>-0.162951</td>\n",
       "      <td>-0.094441</td>\n",
       "      <td>-0.178563</td>\n",
       "      <td>0.208577</td>\n",
       "      <td>-0.164593</td>\n",
       "      <td>1.000000</td>\n",
       "      <td>-0.421346</td>\n",
       "    </tr>\n",
       "    <tr>\n",
       "      <th>Acceptance Rate</th>\n",
       "      <td>0.800066</td>\n",
       "      <td>0.413853</td>\n",
       "      <td>0.299827</td>\n",
       "      <td>0.188673</td>\n",
       "      <td>-0.718752</td>\n",
       "      <td>-0.137161</td>\n",
       "      <td>-0.421346</td>\n",
       "      <td>1.000000</td>\n",
       "    </tr>\n",
       "  </tbody>\n",
       "</table>\n",
       "</div>"
      ],
      "text/plain": [
       "                              Rank  Undergraduate Population  \\\n",
       "Rank                      1.000000                  0.195249   \n",
       "Undergraduate Population  0.195249                  1.000000   \n",
       "Student Population        0.059194                  0.955425   \n",
       "Net Price                 0.163434                 -0.307860   \n",
       "Average Grant Aid        -0.583239                 -0.695763   \n",
       "Total Annual Cost        -0.172830                 -0.232008   \n",
       "Alumni Salary            -0.544977                 -0.162951   \n",
       "Acceptance Rate           0.800066                  0.413853   \n",
       "\n",
       "                          Student Population  Net Price  Average Grant Aid  \\\n",
       "Rank                                0.059194   0.163434          -0.583239   \n",
       "Undergraduate Population            0.955425  -0.307860          -0.695763   \n",
       "Student Population                  1.000000  -0.234315          -0.586193   \n",
       "Net Price                          -0.234315   1.000000           0.303930   \n",
       "Average Grant Aid                  -0.586193   0.303930           1.000000   \n",
       "Total Annual Cost                  -0.134846   0.696465           0.777242   \n",
       "Alumni Salary                      -0.094441  -0.178563           0.208577   \n",
       "Acceptance Rate                     0.299827   0.188673          -0.718752   \n",
       "\n",
       "                          Total Annual Cost  Alumni Salary  Acceptance Rate  \n",
       "Rank                              -0.172830      -0.544977         0.800066  \n",
       "Undergraduate Population          -0.232008      -0.162951         0.413853  \n",
       "Student Population                -0.134846      -0.094441         0.299827  \n",
       "Net Price                          0.696465      -0.178563         0.188673  \n",
       "Average Grant Aid                  0.777242       0.208577        -0.718752  \n",
       "Total Annual Cost                  1.000000      -0.164593        -0.137161  \n",
       "Alumni Salary                     -0.164593       1.000000        -0.421346  \n",
       "Acceptance Rate                   -0.137161      -0.421346         1.000000  "
      ]
     },
     "execution_count": 285,
     "metadata": {},
     "output_type": "execute_result"
    }
   ],
   "source": [
    "top_college.corr()"
   ]
  },
  {
   "cell_type": "code",
   "execution_count": null,
   "id": "13ae3b9e",
   "metadata": {},
   "outputs": [
    {
     "data": {
      "text/plain": [
       "<AxesSubplot:>"
      ]
     },
     "execution_count": 286,
     "metadata": {},
     "output_type": "execute_result"
    }
   ],
   "source": [
    "sns.heatmap(top_college.corr(),cmap='coolwarm')"
   ]
  },
  {
   "cell_type": "code",
   "execution_count": null,
   "id": "4c89ba2d",
   "metadata": {},
   "outputs": [],
   "source": [
    "sns.pairplot(data=college,hue='Public/Private')"
   ]
  },
  {
   "cell_type": "code",
   "execution_count": null,
   "id": "a49c77c3",
   "metadata": {},
   "outputs": [],
   "source": [
    "sns.pairplot(data=top_college,hue='Public/Private')"
   ]
  },
  {
   "cell_type": "markdown",
   "id": "f806736e",
   "metadata": {},
   "source": [
    "The distribution and correlation between data seems to be similar for both datasets when looking at the whole general data. Now let's examine the data more thoroughly by looking at individual variables."
   ]
  },
  {
   "cell_type": "markdown",
   "id": "3257f5d8",
   "metadata": {},
   "source": [
    "# Analysis of Individual Variables"
   ]
  },
  {
   "cell_type": "markdown",
   "id": "c6d03bce",
   "metadata": {},
   "source": [
    "As we analyze individual variables within the data, we will also see how the results differ among public and private schools."
   ]
  },
  {
   "cell_type": "markdown",
   "id": "72478dbf",
   "metadata": {},
   "source": [
    "### Distribution of Colleges Among State"
   ]
  },
  {
   "cell_type": "code",
   "execution_count": null,
   "id": "5a8c9fb1",
   "metadata": {},
   "outputs": [],
   "source": [
    "college['State'].value_counts().plot.pie(figsize=(15,8))"
   ]
  },
  {
   "cell_type": "code",
   "execution_count": null,
   "id": "2ec27ed8",
   "metadata": {},
   "outputs": [],
   "source": [
    "plt.figure(figsize=(10,20), dpi=100)\n",
    "plt.yticks(rotation=45,ha='right')\n",
    "sns.countplot(y='State',data=df, order=df['State'].value_counts().index)"
   ]
  },
  {
   "cell_type": "markdown",
   "id": "b2b47b45",
   "metadata": {},
   "source": [
    "We can identify that New York is the state with the most colleges in the Forbes List, with California and Pennsylvania following it. We have Wyoming and West Virginia with the fewest colleges in the list."
   ]
  },
  {
   "cell_type": "code",
   "execution_count": null,
   "id": "940ce8e3",
   "metadata": {},
   "outputs": [],
   "source": [
    "top_college = college[:100]"
   ]
  },
  {
   "cell_type": "code",
   "execution_count": null,
   "id": "8ec639e8",
   "metadata": {},
   "outputs": [],
   "source": [
    "top_college['State'].value_counts().plot.pie(figsize=(15,8))"
   ]
  },
  {
   "cell_type": "code",
   "execution_count": null,
   "id": "c52e001d",
   "metadata": {},
   "outputs": [],
   "source": [
    "plt.figure(figsize=(5,10), dpi=100)\n",
    "plt.yticks(rotation=45,ha='right')\n",
    "sns.countplot(y='State',data=top_college, order=top_college['State'].value_counts().index)"
   ]
  },
  {
   "cell_type": "markdown",
   "id": "63ac041e",
   "metadata": {},
   "source": [
    "Unlike the prior dataset, in the top 100 colleges, California has the most universities within the top 100, with Massachusetts coming in second, while New York fell to third place. Also, we can identify that states such as New Jersey and Missouri fell to the bottom of the list, when they were towards the middle of the distribution in the prior dataset."
   ]
  },
  {
   "cell_type": "markdown",
   "id": "82152770",
   "metadata": {},
   "source": [
    "### Relationship between Rank and Student Population"
   ]
  },
  {
   "cell_type": "code",
   "execution_count": null,
   "id": "52a61a90",
   "metadata": {},
   "outputs": [],
   "source": [
    "sns.barplot(x='Public/Private', y='Student Population', data=college)"
   ]
  },
  {
   "cell_type": "code",
   "execution_count": null,
   "id": "c85397d7",
   "metadata": {},
   "outputs": [],
   "source": [
    "sns.barplot(x='Public/Private', y='Student Population', data=top_college)"
   ]
  },
  {
   "cell_type": "markdown",
   "id": "a0e50fe0",
   "metadata": {},
   "source": [
    "In both distributions, we can see that generally Public schools have a higher student population than private schools."
   ]
  },
  {
   "cell_type": "code",
   "execution_count": null,
   "id": "b7f2c1e4",
   "metadata": {},
   "outputs": [],
   "source": [
    "sns.lmplot(x='Rank', y='Student Population', data=college, hue='Public/Private')"
   ]
  },
  {
   "cell_type": "markdown",
   "id": "d2272a7a",
   "metadata": {},
   "source": [
    "We can see there is a negative association between the variables, as the higher the rank, the lower the student population. "
   ]
  },
  {
   "cell_type": "code",
   "execution_count": null,
   "id": "a1e57670",
   "metadata": {},
   "outputs": [],
   "source": [
    "sns.lmplot(x='Rank', y='Student Population', data=top_college, hue='Public/Private')"
   ]
  },
  {
   "cell_type": "markdown",
   "id": "5ad03f65",
   "metadata": {},
   "source": [
    "Unlike the prior dataset, the data for public schools seem to have a positive association. However, this association may not be reliable because there are many outliers and the distribution is more scattered than the prior dataset."
   ]
  },
  {
   "cell_type": "markdown",
   "id": "acc18b0e",
   "metadata": {},
   "source": [
    "### Relationship Between Rank and Acceptance Rate"
   ]
  },
  {
   "cell_type": "code",
   "execution_count": null,
   "id": "d78f7a85",
   "metadata": {},
   "outputs": [],
   "source": [
    "sns.lmplot(x='Rank', y='Acceptance Rate', data=college, hue='Public/Private')"
   ]
  },
  {
   "cell_type": "markdown",
   "id": "42ec5c57",
   "metadata": {},
   "source": [
    "We can see that in general for both Public and Private Schools the higher the rank, the higher the acceptance rate."
   ]
  },
  {
   "cell_type": "code",
   "execution_count": null,
   "id": "9c7560e4",
   "metadata": {},
   "outputs": [],
   "source": [
    "sns.lmplot(x='Rank', y='Acceptance Rate', data=top_college, hue='Public/Private')"
   ]
  },
  {
   "cell_type": "markdown",
   "id": "c5f5022c",
   "metadata": {},
   "source": [
    "For the top 100 schools, there is a similar relationship between Rank and Acceptacnce Rate as the prior dataset."
   ]
  },
  {
   "cell_type": "markdown",
   "id": "814f5c14",
   "metadata": {},
   "source": [
    "### Relationship Between Rank and Total Annual Cost"
   ]
  },
  {
   "cell_type": "code",
   "execution_count": null,
   "id": "9525a1ee",
   "metadata": {},
   "outputs": [],
   "source": [
    "sns.barplot(x='Public/Private', y='Total Annual Cost', data=college)"
   ]
  },
  {
   "cell_type": "code",
   "execution_count": null,
   "id": "04a513da",
   "metadata": {},
   "outputs": [],
   "source": [
    "sns.barplot(x='Public/Private', y='Total Annual Cost', data=top_college)"
   ]
  },
  {
   "cell_type": "markdown",
   "id": "9d1ab501",
   "metadata": {},
   "source": [
    "We can see that for both datsets, private schools generally have a greater Total Annual Cost, while colleges in the top 100 tend to have a slightly greater average Total Annual Cost for both private and public schools."
   ]
  },
  {
   "cell_type": "code",
   "execution_count": null,
   "id": "385826d0",
   "metadata": {},
   "outputs": [],
   "source": [
    "sns.lmplot(x='Rank', y='Total Annual Cost', data=college, hue='Public/Private')"
   ]
  },
  {
   "cell_type": "markdown",
   "id": "19c66bbf",
   "metadata": {},
   "source": [
    "We can see that there is a negative association between Rank and Total Annual Cost as the higher the rank, the lower the Annual Cost."
   ]
  },
  {
   "cell_type": "code",
   "execution_count": null,
   "id": "c4d30cec",
   "metadata": {},
   "outputs": [],
   "source": [
    "sns.lmplot(x='Rank', y='Total Annual Cost', data=top_college, hue='Public/Private')"
   ]
  },
  {
   "cell_type": "markdown",
   "id": "e9ea8f41",
   "metadata": {},
   "source": [
    "In this scatter plot for the top 100 schools, we see that public schools now have a positive association, but there is more variation in the data, while the variation in the data for private schools decreased."
   ]
  },
  {
   "cell_type": "code",
   "execution_count": null,
   "id": "b713bf47",
   "metadata": {},
   "outputs": [],
   "source": [
    "college.groupby('Public/Private').std()['Total Annual Cost']"
   ]
  },
  {
   "cell_type": "code",
   "execution_count": null,
   "id": "af24b169",
   "metadata": {},
   "outputs": [],
   "source": [
    "top_college.groupby('Public/Private').std()['Total Annual Cost']"
   ]
  },
  {
   "cell_type": "markdown",
   "id": "0762a24d",
   "metadata": {},
   "source": [
    "By looking at the standard deviations for the Total Annual Cost of the datasets, we see that in the original dataset private schools have a greater standard deviation than public schools, while in the dataset for the top 100 colleges, public schools have a greater standard deviation and there is a greater difference in variation between public and private schools. "
   ]
  },
  {
   "cell_type": "markdown",
   "id": "dec44a9d",
   "metadata": {},
   "source": [
    "### Relationship Between Rank and Alumni Salary"
   ]
  },
  {
   "cell_type": "code",
   "execution_count": null,
   "id": "083eff99",
   "metadata": {},
   "outputs": [],
   "source": [
    "sns.lmplot(x='Rank', y='Alumni Salary', data=college, hue='Public/Private')"
   ]
  },
  {
   "cell_type": "markdown",
   "id": "2f942068",
   "metadata": {},
   "source": [
    "As rank gets higher, the alumni salary of schools decrease. There seems to be not much difference between public and private schools."
   ]
  },
  {
   "cell_type": "code",
   "execution_count": null,
   "id": "ca7520d1",
   "metadata": {},
   "outputs": [],
   "source": [
    "sns.lmplot(x='Rank', y='Alumni Salary', data=top_college, hue='Public/Private')"
   ]
  },
  {
   "cell_type": "markdown",
   "id": "ae4adf1c",
   "metadata": {},
   "source": [
    "Here, the relationship between data seems to be the same as the prior dataset, with the exception that there is more variation in the data. "
   ]
  },
  {
   "cell_type": "markdown",
   "id": "3598333e",
   "metadata": {},
   "source": [
    "Relationship Between Total Annual Cost and Average Grant Aid"
   ]
  },
  {
   "cell_type": "code",
   "execution_count": null,
   "id": "df353056",
   "metadata": {},
   "outputs": [],
   "source": [
    "sns.lmplot(x='Total Annual Cost', y='Average Grant Aid', data=college, hue='Public/Private')"
   ]
  },
  {
   "cell_type": "markdown",
   "id": "a9ef14e8",
   "metadata": {},
   "source": [
    "There seems to be a positive association between Total Annual Cost and Average Grant Aid "
   ]
  },
  {
   "cell_type": "code",
   "execution_count": null,
   "id": "5f4c58a0",
   "metadata": {},
   "outputs": [],
   "source": [
    "college.groupby('Public/Private')[['Total Annual Cost', 'Average Grant Aid']].corr()"
   ]
  },
  {
   "cell_type": "markdown",
   "id": "5a6e7027",
   "metadata": {},
   "source": [
    "Also, we can identify that there is a strong correlation between the data as also shown in the scatter plot."
   ]
  },
  {
   "cell_type": "code",
   "execution_count": null,
   "id": "e3bd0595",
   "metadata": {},
   "outputs": [],
   "source": [
    "sns.barplot(x='Public/Private', y='Average Grant Aid', data=college)"
   ]
  },
  {
   "cell_type": "markdown",
   "id": "e02597f4",
   "metadata": {},
   "source": [
    "Also, private schools tend to have a greater amount of Average Grant Aid as shown in both the scatter plot and bar plot."
   ]
  },
  {
   "cell_type": "code",
   "execution_count": null,
   "id": "66b69bf2",
   "metadata": {},
   "outputs": [],
   "source": [
    "sns.lmplot(x='Total Annual Cost', y='Average Grant Aid', data=top_college, hue='Public/Private')"
   ]
  },
  {
   "cell_type": "markdown",
   "id": "7290d3be",
   "metadata": {},
   "source": [
    "Although the sample size decreased, the association between the data seems to be similar as the prior dataset."
   ]
  },
  {
   "cell_type": "code",
   "execution_count": null,
   "id": "4c700bd3",
   "metadata": {},
   "outputs": [],
   "source": [
    "top_college.groupby('Public/Private')[['Total Annual Cost', 'Average Grant Aid']].corr()"
   ]
  },
  {
   "cell_type": "markdown",
   "id": "5552894b",
   "metadata": {},
   "source": [
    "Also, we can see that the correlation got weaker between the data as the sample size decreased."
   ]
  },
  {
   "cell_type": "code",
   "execution_count": null,
   "id": "2965ed10",
   "metadata": {},
   "outputs": [],
   "source": [
    "sns.barplot(x='Public/Private', y='Average Grant Aid', data=top_college)"
   ]
  },
  {
   "cell_type": "markdown",
   "id": "0a8b1b9f",
   "metadata": {},
   "source": [
    "Also, we can identify that colleges ranked in the top 100 have a greater Average Grant Aid than those not in the top 100."
   ]
  },
  {
   "cell_type": "markdown",
   "id": "353d7d71",
   "metadata": {},
   "source": [
    "### Relationship Between Total Annual Cost and Acceptance Rate"
   ]
  },
  {
   "cell_type": "code",
   "execution_count": null,
   "id": "3a9f31f9",
   "metadata": {},
   "outputs": [],
   "source": [
    "sns.lmplot(x='Acceptance Rate', y='Total Annual Cost',data=college, hue='Public/Private')"
   ]
  },
  {
   "cell_type": "markdown",
   "id": "8a59a33d",
   "metadata": {},
   "source": [
    "There seems to be little to no correlation for public schools and a negative correlation for private schools."
   ]
  },
  {
   "cell_type": "code",
   "execution_count": null,
   "id": "47aad19e",
   "metadata": {},
   "outputs": [],
   "source": [
    "sns.lmplot(x='Acceptance Rate', y='Total Annual Cost',data=top_college, hue='Public/Private')"
   ]
  },
  {
   "cell_type": "markdown",
   "id": "81227464",
   "metadata": {},
   "source": [
    "There seems to still be a negative correlation for private schools, but for public schools the data does not seem reliable as the variability for the data is too high."
   ]
  },
  {
   "cell_type": "markdown",
   "id": "f80e6697",
   "metadata": {},
   "source": [
    "### Relationship Between Acceptance Rate and Total Student Population"
   ]
  },
  {
   "cell_type": "code",
   "execution_count": null,
   "id": "49dc3198",
   "metadata": {},
   "outputs": [],
   "source": [
    "sns.lmplot(x='Acceptance Rate', y='Student Population', data=college, hue='Public/Private')"
   ]
  },
  {
   "cell_type": "markdown",
   "id": "f9f6e7c4",
   "metadata": {},
   "source": [
    "It is hard to find a relationship between the data for public schools and for private schools as they do not seem to have an association."
   ]
  },
  {
   "cell_type": "code",
   "execution_count": null,
   "id": "dd4e01b7",
   "metadata": {},
   "outputs": [],
   "source": [
    "sns.lmplot(x='Acceptance Rate', y='Student Population', data=top_college, hue='Public/Private')"
   ]
  },
  {
   "cell_type": "markdown",
   "id": "1556ce19",
   "metadata": {},
   "source": [
    "The relationship for public schools now is positive, but it seems to be hard to find a correlation between the data because of the variability in data. "
   ]
  },
  {
   "cell_type": "markdown",
   "id": "66a2d933",
   "metadata": {},
   "source": [
    "### Relationship Between Acceptance Rate and Alumni Salary"
   ]
  },
  {
   "cell_type": "code",
   "execution_count": null,
   "id": "728ec218",
   "metadata": {},
   "outputs": [],
   "source": [
    "sns.lmplot(x='Acceptance Rate', y='Alumni Salary', data=college, hue='Public/Private')"
   ]
  },
  {
   "cell_type": "markdown",
   "id": "7a6a665b",
   "metadata": {},
   "source": [
    "There seems to be a negative correlation between Acceptance Rate and Alumni Salary for both private and public schools."
   ]
  },
  {
   "cell_type": "code",
   "execution_count": null,
   "id": "bdfe3daa",
   "metadata": {},
   "outputs": [],
   "source": [
    "sns.lmplot(x='Acceptance Rate', y='Alumni Salary', data=top_college, hue='Public/Private')"
   ]
  },
  {
   "cell_type": "markdown",
   "id": "0302482a",
   "metadata": {},
   "source": [
    "There seems to be a negative correlation between the variables with more variability in the data."
   ]
  }
 ],
 "metadata": {
  "kernelspec": {
   "display_name": "Python 3",
   "language": "python",
   "name": "python3"
  },
  "language_info": {
   "codemirror_mode": {
    "name": "ipython",
    "version": 3
   },
   "file_extension": ".py",
   "mimetype": "text/x-python",
   "name": "python",
   "nbconvert_exporter": "python",
   "pygments_lexer": "ipython3",
   "version": "3.8.8"
  }
 },
 "nbformat": 4,
 "nbformat_minor": 5
}
